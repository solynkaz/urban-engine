{
  "cells": [
    {
      "cell_type": "code",
      "source": [
        "from tensorflow.keras.datasets import fashion_mnist\n",
        "from tensorflow.keras.layers import Conv2D\n",
        "from tensorflow.keras.models import Sequential\n",
        "from tensorflow.keras.layers import MaxPooling2D\n",
        "from tensorflow.keras.layers import Flatten\n",
        "from tensorflow.keras.layers import Dense\n",
        "from tensorflow.keras.metrics import Accuracy\n",
        "from sklearn.metrics import classification_report\n",
        "import matplotlib.pyplot as plt\n",
        "import numpy as np"
      ],
      "metadata": {
        "id": "6vR4OfES0Pd-"
      },
      "execution_count": null,
      "outputs": []
    },
    {
      "cell_type": "markdown",
      "metadata": {
        "id": "FEeu3dMS_10R"
      },
      "source": [
        "# Промежуточная аттестация по сетям искусcтвенных нейронов.\n",
        "## Задание\n",
        "\n",
        "**Ваша задача - создать классификатор изображений с помощью Keras и сверточных нейронных сетей для набора данных Fashion MNIST. Этот набор данных включает 10 меток с разными типами одежды с изображениями 28 на 28 * в оттенках серого *. Имеется обучающий набор из 60 000 изображений и 10 000 тестовых изображений.**\n",
        "\n",
        "Описание классов\n",
        "\n",
        "    Label\tDescription\n",
        "    0\t    T-shirt/top\n",
        "    1\t    Trouser\n",
        "    2\t    Pullover\n",
        "    3\t    Dress\n",
        "    4\t    Coat\n",
        "    5\t    Sandal\n",
        "    6\t    Shirt\n",
        "    7\t    Sneaker\n",
        "    8\t    Bag\n",
        "    9\t    Ankle boot\n",
        "    \n"
      ]
    },
    {
      "cell_type": "markdown",
      "metadata": {
        "id": "iWorW4Fe_10S"
      },
      "source": [
        "## Данные\n",
        "\n",
        "**Загружаем данные**"
      ]
    },
    {
      "cell_type": "code",
      "execution_count": null,
      "metadata": {
        "is_executing": true,
        "id": "Eu943Oh3_10S",
        "colab": {
          "base_uri": "https://localhost:8080/"
        },
        "outputId": "8d88f76e-6427-48a0-9d20-9fe2cbe893b3"
      },
      "outputs": [
        {
          "output_type": "stream",
          "name": "stdout",
          "text": [
            "Downloading data from https://storage.googleapis.com/tensorflow/tf-keras-datasets/train-labels-idx1-ubyte.gz\n",
            "29515/29515 [==============================] - 0s 0us/step\n",
            "Downloading data from https://storage.googleapis.com/tensorflow/tf-keras-datasets/train-images-idx3-ubyte.gz\n",
            "26421880/26421880 [==============================] - 0s 0us/step\n",
            "Downloading data from https://storage.googleapis.com/tensorflow/tf-keras-datasets/t10k-labels-idx1-ubyte.gz\n",
            "5148/5148 [==============================] - 0s 0us/step\n",
            "Downloading data from https://storage.googleapis.com/tensorflow/tf-keras-datasets/t10k-images-idx3-ubyte.gz\n",
            "4422102/4422102 [==============================] - 0s 0us/step\n"
          ]
        }
      ],
      "source": [
        "(x_train, y_train), (x_test, y_test) = fashion_mnist.load_data()"
      ]
    },
    {
      "cell_type": "markdown",
      "metadata": {
        "id": "dV6I9txI_10U"
      },
      "source": [
        "## Визаулизация датасета\n",
        "\n",
        "**Используйте matplotlib чтобы показать пример картинки.**"
      ]
    },
    {
      "cell_type": "code",
      "execution_count": null,
      "metadata": {
        "colab": {
          "base_uri": "https://localhost:8080/",
          "height": 469
        },
        "id": "i1BVfntC_10U",
        "outputId": "922a1dca-d49c-46d5-babd-426de2af8e19"
      },
      "outputs": [
        {
          "output_type": "execute_result",
          "data": {
            "text/plain": [
              "Text(0.5, 1.0, '9')"
            ]
          },
          "metadata": {},
          "execution_count": 5
        },
        {
          "output_type": "display_data",
          "data": {
            "text/plain": [
              "<Figure size 640x480 with 2 Axes>"
            ],
            "image/png": "[encoded data removed]"
          },
          "metadata": {}
        }
      ],
      "source": [
        "plt.imshow(x_train[0], cmap='viridis')\n",
        "plt.colorbar()\n",
        "plt.title(y_train[0])"
      ]
    },
    {
      "cell_type": "markdown",
      "metadata": {
        "id": "CX5KbiET_10U"
      },
      "source": [
        "## Предобработка\n",
        "\n",
        "**Нормализуйте данные X_train и X_test **"
      ]
    },
    {
      "cell_type": "code",
      "execution_count": null,
      "metadata": {
        "id": "d6E8HVa1_10V"
      },
      "outputs": [],
      "source": [
        "x_train = (np.expand_dims(x_train, axis=-1)/255).astype(np.float32)\n",
        "y_train = y_train.astype(np.int64)\n",
        "\n",
        "x_test = (np.expand_dims(x_test, axis=-1)).astype(np.float32)\n",
        "y_test = y_test.astype(np.int64)"
      ]
    },
    {
      "cell_type": "markdown",
      "metadata": {
        "id": "-DugaJ5D_10V"
      },
      "source": [
        "**Измените форму массивов X_train и X_test так, чтобы они стали 4-мерными**\n",
        "batch_size x channels x H x W"
      ]
    },
    {
      "cell_type": "code",
      "execution_count": null,
      "metadata": {
        "colab": {
          "base_uri": "https://localhost:8080/"
        },
        "id": "X8mczGMz_10W",
        "outputId": "8c62c7c0-1c41-42ac-fdf6-e4c8ab5686e4"
      },
      "outputs": [
        {
          "output_type": "execute_result",
          "data": {
            "text/plain": [
              "(10000, 28, 28, 1)"
            ]
          },
          "metadata": {},
          "execution_count": 7
        }
      ],
      "source": [
        "x_test.shape"
      ]
    },
    {
      "cell_type": "code",
      "source": [
        "x_train.shape"
      ],
      "metadata": {
        "colab": {
          "base_uri": "https://localhost:8080/"
        },
        "id": "o5XPAXgwy5HC",
        "outputId": "92212065-dad8-41c5-b67a-d769c049326e"
      },
      "execution_count": null,
      "outputs": [
        {
          "output_type": "execute_result",
          "data": {
            "text/plain": [
              "(60000, 28, 28, 1)"
            ]
          },
          "metadata": {},
          "execution_count": 8
        }
      ]
    },
    {
      "cell_type": "markdown",
      "metadata": {
        "id": "MlbR44M2_10W"
      },
      "source": [
        "**Преобразуйте  y_train и y_test в one_hot представления **"
      ]
    },
    {
      "cell_type": "code",
      "execution_count": null,
      "metadata": {
        "id": "M9q3YqTC_10W"
      },
      "outputs": [],
      "source": [
        "y_train = np.eye(y_train.max() + 1)[y_train]"
      ]
    },
    {
      "cell_type": "code",
      "execution_count": null,
      "metadata": {
        "colab": {
          "base_uri": "https://localhost:8080/"
        },
        "id": "QlnKj-Ck_10W",
        "outputId": "67bb5fb3-0013-4033-c8ea-3347e36018fc"
      },
      "outputs": [
        {
          "output_type": "execute_result",
          "data": {
            "text/plain": [
              "array([[0., 0., 0., ..., 0., 0., 1.],\n",
              "       [1., 0., 0., ..., 0., 0., 0.],\n",
              "       [1., 0., 0., ..., 0., 0., 0.],\n",
              "       ...,\n",
              "       [0., 0., 0., ..., 0., 0., 0.],\n",
              "       [1., 0., 0., ..., 0., 0., 0.],\n",
              "       [0., 0., 0., ..., 0., 0., 0.]])"
            ]
          },
          "metadata": {},
          "execution_count": 10
        }
      ],
      "source": [
        "y_train"
      ]
    },
    {
      "cell_type": "code",
      "execution_count": null,
      "metadata": {
        "id": "xYPYXVxM_10X"
      },
      "outputs": [],
      "source": [
        "y_test = np.eye(y_test.max() + 1)[y_test]"
      ]
    },
    {
      "cell_type": "code",
      "execution_count": null,
      "metadata": {
        "colab": {
          "base_uri": "https://localhost:8080/"
        },
        "id": "U9kWiYzF_10X",
        "outputId": "72ae85ce-79f7-4be0-e164-0493559a2e14"
      },
      "outputs": [
        {
          "output_type": "execute_result",
          "data": {
            "text/plain": [
              "array([[0., 0., 0., ..., 0., 0., 1.],\n",
              "       [0., 0., 1., ..., 0., 0., 0.],\n",
              "       [0., 1., 0., ..., 0., 0., 0.],\n",
              "       ...,\n",
              "       [0., 0., 0., ..., 0., 1., 0.],\n",
              "       [0., 1., 0., ..., 0., 0., 0.],\n",
              "       [0., 0., 0., ..., 0., 0., 0.]])"
            ]
          },
          "metadata": {},
          "execution_count": 12
        }
      ],
      "source": [
        "y_test"
      ]
    },
    {
      "cell_type": "markdown",
      "metadata": {
        "id": "TdL8LLro_10X"
      },
      "source": [
        "## Создайте модель\n",
        "\n",
        "**Примерная структура модели. При выполнении задания вы можете поэкспериментировать со слоями**\n",
        "\n",
        "* Сверточный слой, 32 фильтра, размер ядра=(4,4)\n",
        "* Пулинг с pool_size = (2,2)\n",
        "\n",
        "* Выпрямляющий слой (Flatten)\n",
        "* Полносвязный слой (например 128 нейронов), RELU\n",
        "\n",
        "* Выходной полносвязный слой с 10 нейронами с softmax\n",
        "\n",
        "**При компиляции укажите loss='categorical_crossentropy', optimizer='rmsprop', metrics=['accuracy']**"
      ]
    },
    {
      "cell_type": "code",
      "execution_count": null,
      "metadata": {
        "id": "XEExwigc_10X"
      },
      "outputs": [],
      "source": [
        "model = Sequential()\n",
        "\n",
        "conv_layer = Conv2D(filters=32, kernel_size=(4, 4), activation='relu')\n",
        "max_pooling_layer = MaxPooling2D(pool_size=(2, 2))\n",
        "flatten_layer = Flatten()\n",
        "input_dense = Dense(units=128,activation='relu')\n",
        "output_dense = Dense(units=10,activation='softmax')\n",
        "\n",
        "\n",
        "model.add(conv_layer)\n",
        "model.add(max_pooling_layer)\n",
        "model.add(flatten_layer)\n",
        "model.add(input_dense)\n",
        "model.add(output_dense)\n",
        "model.compile(loss='categorical_crossentropy', optimizer='rmsprop', metrics=['accuracy'])"
      ]
    },
    {
      "cell_type": "markdown",
      "metadata": {
        "id": "b2-aiCLl_10Y"
      },
      "source": [
        "### Тренировка модели\n",
        "**Тренируем модель на x_train. Число эпох выберите самостоятельно**"
      ]
    },
    {
      "cell_type": "code",
      "execution_count": null,
      "metadata": {
        "colab": {
          "base_uri": "https://localhost:8080/"
        },
        "id": "Oy2H2b48_10Y",
        "outputId": "140070a7-124e-4cb0-d4fc-941d69edbea8"
      },
      "outputs": [
        {
          "output_type": "stream",
          "name": "stdout",
          "text": [
            "Epoch 1/12\n",
            "1875/1875 [==============================] - 38s 20ms/step - loss: 0.3373 - accuracy: 0.8803\n",
            "Epoch 2/12\n",
            "1875/1875 [==============================] - 38s 20ms/step - loss: 0.2637 - accuracy: 0.9042\n",
            "Epoch 3/12\n",
            "1875/1875 [==============================] - 37s 20ms/step - loss: 0.2279 - accuracy: 0.9161\n",
            "Epoch 4/12\n",
            "1875/1875 [==============================] - 36s 19ms/step - loss: 0.2024 - accuracy: 0.9263\n",
            "Epoch 5/12\n",
            "1875/1875 [==============================] - 37s 20ms/step - loss: 0.1809 - accuracy: 0.9348\n",
            "Epoch 6/12\n",
            "1875/1875 [==============================] - 37s 20ms/step - loss: 0.1627 - accuracy: 0.9416\n",
            "Epoch 7/12\n",
            "1875/1875 [==============================] - 37s 20ms/step - loss: 0.1469 - accuracy: 0.9474\n",
            "Epoch 8/12\n",
            "1875/1875 [==============================] - 37s 20ms/step - loss: 0.1329 - accuracy: 0.9532\n",
            "Epoch 9/12\n",
            "1875/1875 [==============================] - 37s 20ms/step - loss: 0.1205 - accuracy: 0.9564\n",
            "Epoch 10/12\n",
            "1875/1875 [==============================] - 37s 20ms/step - loss: 0.1095 - accuracy: 0.9614\n",
            "Epoch 11/12\n",
            "1875/1875 [==============================] - 37s 20ms/step - loss: 0.1002 - accuracy: 0.9656\n",
            "Epoch 12/12\n",
            "1875/1875 [==============================] - 37s 20ms/step - loss: 0.0916 - accuracy: 0.9677\n"
          ]
        },
        {
          "output_type": "execute_result",
          "data": {
            "text/plain": [
              "<keras.src.callbacks.History at 0x7875ee8a97e0>"
            ]
          },
          "metadata": {},
          "execution_count": 15
        }
      ],
      "source": [
        "model.fit(x_train,y_train,epochs=12, batch_size=32)"
      ]
    },
    {
      "cell_type": "markdown",
      "metadata": {
        "id": "ztjNimdY_10Y"
      },
      "source": [
        "### Оценка модели\n",
        "\n",
        "**Оцените модель по метрикам accuracy,precision,recall,f1-score на тестовой выборке x_test **"
      ]
    },
    {
      "cell_type": "code",
      "execution_count": null,
      "metadata": {
        "id": "3ZVaAmWr_10Y",
        "outputId": "cd2f4278-f722-4aae-ced2-6aec2d0fe71e",
        "colab": {
          "base_uri": "https://localhost:8080/"
        }
      },
      "outputs": [
        {
          "output_type": "stream",
          "name": "stdout",
          "text": [
            "313/313 [==============================] - 2s 5ms/step\n"
          ]
        }
      ],
      "source": [
        "y_pred = model.predict(x_test)"
      ]
    },
    {
      "cell_type": "code",
      "execution_count": null,
      "metadata": {
        "id": "mDISndIb_10Z"
      },
      "outputs": [],
      "source": [
        "true_classes = np.argmax(y_test,axis=1)\n",
        "pred_classes = np.argmax(y_pred,axis=1)"
      ]
    },
    {
      "cell_type": "code",
      "execution_count": null,
      "metadata": {
        "id": "hLgI_qxT_10Z",
        "outputId": "c46ee52a-7595-42b9-a8aa-ac49750a6a2c",
        "colab": {
          "base_uri": "https://localhost:8080/"
        }
      },
      "outputs": [
        {
          "output_type": "stream",
          "name": "stdout",
          "text": [
            "              precision    recall  f1-score   support\n",
            "\n",
            "           0       0.77      0.89      0.83      1000\n",
            "           1       0.99      0.95      0.97      1000\n",
            "           2       0.87      0.76      0.81      1000\n",
            "           3       0.88      0.87      0.88      1000\n",
            "           4       0.68      0.93      0.78      1000\n",
            "           5       0.93      0.97      0.95      1000\n",
            "           6       0.75      0.51      0.61      1000\n",
            "           7       0.96      0.92      0.94      1000\n",
            "           8       0.98      0.96      0.97      1000\n",
            "           9       0.96      0.96      0.96      1000\n",
            "\n",
            "    accuracy                           0.87     10000\n",
            "   macro avg       0.88      0.87      0.87     10000\n",
            "weighted avg       0.88      0.87      0.87     10000\n",
            "\n"
          ]
        }
      ],
      "source": [
        "print(classification_report(true_classes, pred_classes))"
      ]
    },
    {
      "cell_type": "markdown",
      "metadata": {
        "id": "Lm1k2c6P_10Z"
      },
      "source": [
        "## Проверка"
      ]
    },
    {
      "cell_type": "code",
      "execution_count": null,
      "metadata": {
        "id": "ft50kSBC_10Z",
        "outputId": "38851935-ced3-4a67-d0a4-1a6537623f8c",
        "colab": {
          "base_uri": "https://localhost:8080/",
          "height": 524
        }
      },
      "outputs": [
        {
          "output_type": "stream",
          "name": "stderr",
          "text": [
            "/usr/local/lib/python3.10/dist-packages/matplotlib/text.py:1279: FutureWarning: elementwise comparison failed; returning scalar instead, but in the future will perform elementwise comparison\n",
            "  if s != self._text:\n"
          ]
        },
        {
          "output_type": "execute_result",
          "data": {
            "text/plain": [
              "Text(0.5, 1.0, '[0. 0. 1. 0. 0. 0. 0. 0. 0. 0.]')"
            ]
          },
          "metadata": {},
          "execution_count": 19
        },
        {
          "output_type": "display_data",
          "data": {
            "text/plain": [
              "<Figure size 640x480 with 2 Axes>"
            ],
            "image/png": "[encoded data removed]"
          },
          "metadata": {}
        }
      ],
      "source": [
        "plt.imshow(x_test[1], cmap='viridis')\n",
        "plt.colorbar()\n",
        "plt.title(y_test[1])"
      ]
    }
  ],
  "metadata": {
    "kernelspec": {
      "display_name": "Python 3 (ipykernel)",
      "language": "python",
      "name": "python3"
    },
    "language_info": {
      "codemirror_mode": {
        "name": "ipython",
        "version": 3
      },
      "file_extension": ".py",
      "mimetype": "text/x-python",
      "name": "python",
      "nbconvert_exporter": "python",
      "pygments_lexer": "ipython3",
      "version": "3.9.13"
    },
    "colab": {
      "provenance": []
    }
  },
  "nbformat": 4,
  "nbformat_minor": 0
}